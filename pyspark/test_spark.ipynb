{
 "cells": [
  {
   "cell_type": "code",
   "execution_count": 4,
   "metadata": {
    "collapsed": false
   },
   "outputs": [
    {
     "data": {
      "text/plain": [
       "[('', 5),\n",
       " ('lacus', 1),\n",
       " ('urna', 2),\n",
       " ('lorem.', 2),\n",
       " ('metus', 1),\n",
       " ('porttitor', 2),\n",
       " ('vulputate', 2),\n",
       " ('convallis', 1),\n",
       " ('varius', 5),\n",
       " ('pharetra.', 1),\n",
       " ('eget', 6),\n",
       " ('augue', 4),\n",
       " ('diam', 3),\n",
       " ('ex.', 1),\n",
       " ('sed', 10),\n",
       " ('erat.', 1),\n",
       " ('condimentum', 1),\n",
       " ('lectus,', 1),\n",
       " ('faucibus', 1),\n",
       " ('quam', 3)]"
      ]
     },
     "execution_count": 4,
     "metadata": {},
     "output_type": "execute_result"
    }
   ],
   "source": [
    "# Word count program pyspark\n",
    "\n",
    "from operator import add\n",
    "\n",
    "file = sc.textFile('lorem_ipsum.txt')\n",
    "rdd = file.flatMap(lambda row: row.split(' '))\n",
    "\n",
    "word_count_rdd = rdd.map(lambda word: (word, 1))\n",
    "counts = word_count_rdd.reduceByKey(lambda x,y :( x+y))\n",
    "\n",
    "# counts.take(20)"
   ]
  },
  {
   "cell_type": "code",
   "execution_count": 5,
   "metadata": {
    "collapsed": false
   },
   "outputs": [
    {
     "data": {
      "text/plain": [
       "['[Sun Mar  7 21:16:17 2004] [error] [client 24.70.56.49] File does not exist: /home/httpd/twiki/view/Main/WebHome',\n",
       " '[Mon Mar  8 07:27:36 2004] [error] [client 61.9.4.61] File does not exist: /usr/local/apache/htdocs/_vti_bin/owssvr.dll',\n",
       " '[Mon Mar  8 07:27:37 2004] [error] [client 61.9.4.61] File does not exist: /usr/local/apache/htdocs/MSOffice/cltreq.asp',\n",
       " '[Thu Mar 11 02:27:34 2004] [error] [client 200.174.151.3] File does not exist: /usr/local/mailman/archives/public/cipg/2003-november.txt',\n",
       " '[Thu Mar 11 07:39:29 2004] [error] [client 140.113.179.131] File does not exist: /usr/local/apache/htdocs/M83A']"
      ]
     },
     "execution_count": 5,
     "metadata": {},
     "output_type": "execute_result"
    }
   ],
   "source": [
    "#  Read the apache logs and filter out words containing only errors\n",
    "\n",
    "file = sc.textFile('error_log')\n",
    "error_logs_only = file.filter(lambda row: \"error\" in row.lower())\n",
    "\n",
    "# error_logs_only.take(5)"
   ]
  },
  {
   "cell_type": "code",
   "execution_count": 6,
   "metadata": {
    "collapsed": false
   },
   "outputs": [
    {
     "data": {
      "text/plain": [
       "[('Lorem',\n",
       "  'Lorem ipsum dolor sit amet, consectetur adipiscing elit. Proin sed diam ac nisl placerat semper ac id dui. Praesent sagittis egestas libero at placerat. Suspendisse quis semper lorem. Vestibulum pharetra ante in varius consectetur. Sed tincidunt commodo lorem vitae iaculis. In at quam felis. Nam semper maximus turpis. Curabitur volutpat elit a ex elementum rhoncus. Ut placerat nibh id consectetur efficitur. Sed porta quam sed mi efficitur luctus. Nulla facilisi.'),\n",
       " ('Maecenas',\n",
       "  'Maecenas a nunc quis enim congue venenatis ut non ex. Nunc libero lectus, vestibulum quis facilisis sit amet, mattis vitae nisi. Mauris convallis vulputate elit, in viverra lectus aliquet in. Mauris vehicula feugiat purus in pharetra. Maecenas in interdum erat. Nullam sodales non purus a convallis. In hac habitasse platea dictumst. Fusce augue nisi, placerat ut erat a, rutrum bibendum urna. Curabitur et metus vel mauris aliquet rutrum non eget augue. Cras non semper risus. Sed pharetra nulla nunc, vel rutrum augue lacinia vel. Etiam vitae justo eget odio egestas volutpat. Curabitur tristique elit ut tellus tristique, ut volutpat quam fringilla. Curabitur pretium lectus eget placerat auctor. Nam nec tempor mauris, sed varius felis. Nam nec finibus odio, et varius libero.'),\n",
       " ('Duis',\n",
       "  'Duis libero metus, imperdiet et semper non, imperdiet feugiat odio. Aliquam tempus ultrices ipsum et viverra. Nullam eget erat in ex ultricies dictum. Sed rhoncus condimentum dolor in accumsan. Nam tempor urna ac pharetra vehicula. Curabitur id suscipit eros, sed pulvinar lectus. Pellentesque pellentesque, magna et consequat auctor, dui justo eleifend lacus, id aliquam neque ligula a ipsum. Quisque ac ante lorem. Aliquam id augue viverra, vestibulum eros eget, accumsan elit. Vivamus sollicitudin ex varius diam laoreet porttitor. Aliquam in blandit tellus, et luctus ante. Integer elit erat, suscipit et tellus blandit, tempus feugiat turpis. Donec non nulla id sapien vulputate tristique. Morbi porttitor lectus nec augue posuere blandit.'),\n",
       " ('Vivamus',\n",
       "  'Vivamus tempus libero sed urna aliquet, vel gravida felis viverra. Vestibulum pulvinar non nulla at elementum. Pellentesque suscipit feugiat ex sed cursus. Praesent leo velit, aliquam nec pharetra quis, ultricies eu ante. Donec quis neque in orci tempor vehicula eu a mi. Ut lobortis sed diam ac viverra. Curabitur nunc est, sodales quis nunc vel, commodo facilisis urna. Phasellus sollicitudin sapien et venenatis suscipit. Nullam ligula mauris, congue quis sem luctus, vehicula commodo diam. Mauris quis maximus magna, et dictum velit. Morbi tincidunt, lacus porta tincidunt luctus, ipsum lectus euismod felis, nec consectetur mi nibh nec risus. Sed rhoncus libero nunc, nec tempor ex imperdiet eu.'),\n",
       " ('Etiam',\n",
       "  'Etiam rhoncus lacinia augue, eu venenatis velit fringilla nec. Curabitur felis nibh, maximus ac pharetra dictum, rhoncus eget leo. Suspendisse at lectus sed tortor varius ultricies. Suspendisse sed ex at nunc efficitur volutpat. Nunc aliquet faucibus dolor. Curabitur sollicitudin blandit luctus. Maecenas magna neque, fringilla quis venenatis at, vestibulum eget ante. Suspendisse justo metus, pulvinar sit amet finibus sit amet, pharetra sed libero. Sed tincidunt, nisl quis facilisis mollis, massa enim porttitor orci, eu egestas arcu elit vel odio. Fusce maximus orci urna, in elementum nisi facilisis eget. Vestibulum quis dictum nunc.')]"
      ]
     },
     "execution_count": 6,
     "metadata": {},
     "output_type": "execute_result"
    }
   ],
   "source": [
    "#Create a pair RDD using the first word of a line as the key, and the rest of the line as the value\n",
    "\n",
    "file = sc.textFile('lorem_ipsum.txt')\n",
    "fil = sc.parallelize(['']).first()\n",
    "\n",
    "lines = file.flatMap(lambda line: line.split('\\n'))\n",
    "lines = lines.filter(lambda line: line != fil)\n",
    "\n",
    "pair_rdd = lines.map(lambda line: (line.split(' ')[0], line))\n",
    "\n",
    "# pair_rdd.take(5)"
   ]
  },
  {
   "cell_type": "code",
   "execution_count": null,
   "metadata": {
    "collapsed": false
   },
   "outputs": [],
   "source": [
    "# UDF to find length of a name in a dataframe, and add it as a column\n",
    "\n",
    "df = sqlContext.read.json('sample.json')\n",
    "\n",
    "def find_len(name):\n",
    "    return len(name)\n",
    "\n",
    "udf_name_length = udf(find_len, StringType())\n",
    "df.withColumn('name_len', udf_name_length(df.name)).show()"
   ]
  },
  {
   "cell_type": "code",
   "execution_count": null,
   "metadata": {
    "collapsed": true
   },
   "outputs": [],
   "source": []
  }
 ],
 "metadata": {
  "kernelspec": {
   "display_name": "Python 3",
   "language": "python",
   "name": "python3"
  },
  "language_info": {
   "codemirror_mode": {
    "name": "ipython",
    "version": 3
   },
   "file_extension": ".py",
   "mimetype": "text/x-python",
   "name": "python",
   "nbconvert_exporter": "python",
   "pygments_lexer": "ipython3",
   "version": "3.5.1"
  }
 },
 "nbformat": 4,
 "nbformat_minor": 0
}
